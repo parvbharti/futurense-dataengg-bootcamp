{
  "nbformat": 4,
  "nbformat_minor": 0,
  "metadata": {
    "colab": {
      "provenance": []
    },
    "kernelspec": {
      "name": "python3",
      "display_name": "Python 3"
    },
    "language_info": {
      "name": "python"
    }
  },
  "cells": [
    {
      "cell_type": "code",
      "execution_count": 1,
      "metadata": {
        "colab": {
          "base_uri": "https://localhost:8080/"
        },
        "id": "F6LkdHqX618F",
        "outputId": "7eb80ff0-93d3-4074-eb21-37cae667e47b"
      },
      "outputs": [
        {
          "output_type": "stream",
          "name": "stdout",
          "text": [
            "Looking in indexes: https://pypi.org/simple, https://us-python.pkg.dev/colab-wheels/public/simple/\n",
            "Collecting pyspark\n",
            "  Downloading pyspark-3.3.2.tar.gz (281.4 MB)\n",
            "\u001b[2K     \u001b[90m━━━━━━━━━━━━━━━━━━━━━━━━━━━━━━━━━━━━━━━\u001b[0m \u001b[32m281.4/281.4 MB\u001b[0m \u001b[31m5.3 MB/s\u001b[0m eta \u001b[36m0:00:00\u001b[0m\n",
            "\u001b[?25h  Preparing metadata (setup.py) ... \u001b[?25l\u001b[?25hdone\n",
            "Collecting py4j==0.10.9.5\n",
            "  Downloading py4j-0.10.9.5-py2.py3-none-any.whl (199 kB)\n",
            "\u001b[2K     \u001b[90m━━━━━━━━━━━━━━━━━━━━━━━━━━━━━━━━━━━━━━\u001b[0m \u001b[32m199.7/199.7 KB\u001b[0m \u001b[31m14.0 MB/s\u001b[0m eta \u001b[36m0:00:00\u001b[0m\n",
            "\u001b[?25hBuilding wheels for collected packages: pyspark\n",
            "  Building wheel for pyspark (setup.py) ... \u001b[?25l\u001b[?25hdone\n",
            "  Created wheel for pyspark: filename=pyspark-3.3.2-py2.py3-none-any.whl size=281824028 sha256=f9c2ba6881731ccf45689ab7f38377348e39fa55a2264758704db87f8ea35c5f\n",
            "  Stored in directory: /root/.cache/pip/wheels/6c/e3/9b/0525ce8a69478916513509d43693511463c6468db0de237c86\n",
            "Successfully built pyspark\n",
            "Installing collected packages: py4j, pyspark\n",
            "  Attempting uninstall: py4j\n",
            "    Found existing installation: py4j 0.10.9.7\n",
            "    Uninstalling py4j-0.10.9.7:\n",
            "      Successfully uninstalled py4j-0.10.9.7\n",
            "Successfully installed py4j-0.10.9.5 pyspark-3.3.2\n"
          ]
        }
      ],
      "source": [
        "!pip install pyspark"
      ]
    },
    {
      "cell_type": "code",
      "source": [
        "from pyspark.sql import SparkSession "
      ],
      "metadata": {
        "id": "xxqRE9CF7A0i"
      },
      "execution_count": 2,
      "outputs": []
    },
    {
      "cell_type": "code",
      "source": [
        "spark=SparkSession.builder.appName('Dataframe Examples').getOrCreate()"
      ],
      "metadata": {
        "id": "i6jIDpnP7oMB"
      },
      "execution_count": 4,
      "outputs": []
    },
    {
      "cell_type": "code",
      "source": [
        "sc=spark.sparkContext"
      ],
      "metadata": {
        "id": "cSNFjE0G8bKu"
      },
      "execution_count": 5,
      "outputs": []
    },
    {
      "cell_type": "code",
      "source": [
        "rdd=sc.parallelize([3,4,5,6],2)"
      ],
      "metadata": {
        "id": "ASrCGZd08jAM"
      },
      "execution_count": 6,
      "outputs": []
    },
    {
      "cell_type": "code",
      "source": [
        "rdd2=sc.textFile('/content/5000 Sales Records.csv')"
      ],
      "metadata": {
        "id": "eNCS2bPE9BkT"
      },
      "execution_count": 8,
      "outputs": []
    },
    {
      "cell_type": "code",
      "source": [
        "rdd2.getNumPartitions()"
      ],
      "metadata": {
        "colab": {
          "base_uri": "https://localhost:8080/"
        },
        "id": "i6ZzXn0B9odR",
        "outputId": "25cb9f86-f2c0-4b6a-d935-e21c3e349348"
      },
      "execution_count": 9,
      "outputs": [
        {
          "output_type": "execute_result",
          "data": {
            "text/plain": [
              "2"
            ]
          },
          "metadata": {},
          "execution_count": 9
        }
      ]
    },
    {
      "cell_type": "code",
      "source": [
        "rdd2.take(2)"
      ],
      "metadata": {
        "colab": {
          "base_uri": "https://localhost:8080/"
        },
        "id": "I0WEOt9y9sAH",
        "outputId": "21e41ff5-ca2c-410d-f4b5-6219cd5b6c74"
      },
      "execution_count": 33,
      "outputs": [
        {
          "output_type": "execute_result",
          "data": {
            "text/plain": [
              "['Region,Country,Item Type,Sales Channel,Order Priority,Order Date,Order ID,Ship Date,Units Sold,Unit Price,Unit Cost,Total Revenue,Total Cost,Total Profit',\n",
              " 'Central America and the Caribbean,Antigua and Barbuda ,Baby Food,Online,M,12/20/2013,957081544,1/11/2014,552,255.28,159.42,140914.56,87999.84,52914.72']"
            ]
          },
          "metadata": {},
          "execution_count": 33
        }
      ]
    },
    {
      "cell_type": "code",
      "source": [
        "rdd3=rdd2.map(lambda x: x.split(','))"
      ],
      "metadata": {
        "id": "k2vgk8sG9zhX"
      },
      "execution_count": 11,
      "outputs": []
    },
    {
      "cell_type": "code",
      "source": [
        "rdd3.take(2)"
      ],
      "metadata": {
        "colab": {
          "base_uri": "https://localhost:8080/"
        },
        "id": "YM054aIi9_yo",
        "outputId": "b2d18587-0bd2-4d40-ea36-aa1602707859"
      },
      "execution_count": 12,
      "outputs": [
        {
          "output_type": "execute_result",
          "data": {
            "text/plain": [
              "[['Region',\n",
              "  'Country',\n",
              "  'Item Type',\n",
              "  'Sales Channel',\n",
              "  'Order Priority',\n",
              "  'Order Date',\n",
              "  'Order ID',\n",
              "  'Ship Date',\n",
              "  'Units Sold',\n",
              "  'Unit Price',\n",
              "  'Unit Cost',\n",
              "  'Total Revenue',\n",
              "  'Total Cost',\n",
              "  'Total Profit'],\n",
              " ['Central America and the Caribbean',\n",
              "  'Antigua and Barbuda ',\n",
              "  'Baby Food',\n",
              "  'Online',\n",
              "  'M',\n",
              "  '12/20/2013',\n",
              "  '957081544',\n",
              "  '1/11/2014',\n",
              "  '552',\n",
              "  '255.28',\n",
              "  '159.42',\n",
              "  '140914.56',\n",
              "  '87999.84',\n",
              "  '52914.72']]"
            ]
          },
          "metadata": {},
          "execution_count": 12
        }
      ]
    },
    {
      "cell_type": "code",
      "source": [
        "header=rdd3.first()"
      ],
      "metadata": {
        "id": "RIQVCzVw-CFk"
      },
      "execution_count": 13,
      "outputs": []
    },
    {
      "cell_type": "code",
      "source": [
        "rdd4=rdd3.filter(lambda x:x!=header)"
      ],
      "metadata": {
        "id": "-Nz8VHvC-JVb"
      },
      "execution_count": 14,
      "outputs": []
    },
    {
      "cell_type": "code",
      "source": [
        "rdd4.take(2)"
      ],
      "metadata": {
        "colab": {
          "base_uri": "https://localhost:8080/"
        },
        "id": "EMf4zXG6-SSW",
        "outputId": "56cb6e85-3d8c-4d4b-e927-fc69b3caf706"
      },
      "execution_count": 15,
      "outputs": [
        {
          "output_type": "execute_result",
          "data": {
            "text/plain": [
              "[['Central America and the Caribbean',\n",
              "  'Antigua and Barbuda ',\n",
              "  'Baby Food',\n",
              "  'Online',\n",
              "  'M',\n",
              "  '12/20/2013',\n",
              "  '957081544',\n",
              "  '1/11/2014',\n",
              "  '552',\n",
              "  '255.28',\n",
              "  '159.42',\n",
              "  '140914.56',\n",
              "  '87999.84',\n",
              "  '52914.72'],\n",
              " ['Central America and the Caribbean',\n",
              "  'Panama',\n",
              "  'Snacks',\n",
              "  'Offline',\n",
              "  'C',\n",
              "  '7/5/2010',\n",
              "  '301644504',\n",
              "  '7/26/2010',\n",
              "  '2167',\n",
              "  '152.58',\n",
              "  '97.44',\n",
              "  '330640.86',\n",
              "  '211152.48',\n",
              "  '119488.38']]"
            ]
          },
          "metadata": {},
          "execution_count": 15
        }
      ]
    },
    {
      "cell_type": "code",
      "source": [
        "rdd4.getStorageLevel()"
      ],
      "metadata": {
        "colab": {
          "base_uri": "https://localhost:8080/"
        },
        "id": "UqLtfqw6-ULA",
        "outputId": "e413b9b2-ac5b-4cbc-a332-74737c8031a4"
      },
      "execution_count": 16,
      "outputs": [
        {
          "output_type": "execute_result",
          "data": {
            "text/plain": [
              "StorageLevel(False, False, False, False, 1)"
            ]
          },
          "metadata": {},
          "execution_count": 16
        }
      ]
    },
    {
      "cell_type": "code",
      "source": [
        "rdd5=rdd4.cache()"
      ],
      "metadata": {
        "id": "3DeOa9KW-a7Q"
      },
      "execution_count": 17,
      "outputs": []
    },
    {
      "cell_type": "code",
      "source": [
        "rdd5.getStorageLevel()"
      ],
      "metadata": {
        "colab": {
          "base_uri": "https://localhost:8080/"
        },
        "id": "64ArI13B-jEV",
        "outputId": "e737fcaf-47d2-4a8f-d6ca-c41124c5939f"
      },
      "execution_count": 18,
      "outputs": [
        {
          "output_type": "execute_result",
          "data": {
            "text/plain": [
              "StorageLevel(False, True, False, False, 1)"
            ]
          },
          "metadata": {},
          "execution_count": 18
        }
      ]
    },
    {
      "cell_type": "code",
      "source": [
        "# Display the count of number of countries\n",
        "sol1=rdd5.map(lambda x : x[1]).distinct().count()"
      ],
      "metadata": {
        "id": "xBVchDdx-mmp"
      },
      "execution_count": 19,
      "outputs": []
    },
    {
      "cell_type": "code",
      "source": [
        "sol1"
      ],
      "metadata": {
        "colab": {
          "base_uri": "https://localhost:8080/"
        },
        "id": "cNdhL6YQ_x7I",
        "outputId": "1032c03c-a13a-4e81-d5cb-565f63294825"
      },
      "execution_count": 20,
      "outputs": [
        {
          "output_type": "execute_result",
          "data": {
            "text/plain": [
              "185"
            ]
          },
          "metadata": {},
          "execution_count": 20
        }
      ]
    },
    {
      "cell_type": "code",
      "source": [
        "# Display the number of units sold in each region\n",
        "#sol2=rdd5.map(lambda x: (x[0],int(x[8]))).groupByKey().mapValues(lambda x: sum(x)) # Using mapValues\n",
        "sol2=rdd5.map(lambda x: (x[0],int(x[8]))).reduceByKey(lambda x,y:x+y) # Using reduceByKey"
      ],
      "metadata": {
        "id": "FVn52LDC_4gN"
      },
      "execution_count": 21,
      "outputs": []
    },
    {
      "cell_type": "code",
      "source": [
        "sol2.collect()"
      ],
      "metadata": {
        "colab": {
          "base_uri": "https://localhost:8080/"
        },
        "id": "rUcSTKzMA3s5",
        "outputId": "eb4d8a99-f94d-4877-ee64-c0e5ced40b19"
      },
      "execution_count": 22,
      "outputs": [
        {
          "output_type": "execute_result",
          "data": {
            "text/plain": [
              "[('Asia', 3620036),\n",
              " ('Middle East and North Africa', 3013431),\n",
              " ('Australia and Oceania', 2111786),\n",
              " ('Central America and the Caribbean', 2698776),\n",
              " ('Europe', 6582322),\n",
              " ('Sub-Saharan Africa', 6642380),\n",
              " ('North America', 484760)]"
            ]
          },
          "metadata": {},
          "execution_count": 22
        }
      ]
    },
    {
      "cell_type": "code",
      "source": [
        "\n",
        "from datetime import datetime"
      ],
      "metadata": {
        "id": "lwdAZwJ0kqaK"
      },
      "execution_count": 23,
      "outputs": []
    },
    {
      "cell_type": "code",
      "source": [
        "# Display the 10 most recent Sales\n",
        "\n",
        "sol3=rdd5.map(lambda x: (x[5] , datetime.strptime(x[5],'%m/%d/%Y')))\n",
        "sol3.sortBy(lambda x:x[1],ascending= False).take(10)"
      ],
      "metadata": {
        "id": "Pa3V8B5fA7aO",
        "colab": {
          "base_uri": "https://localhost:8080/"
        },
        "outputId": "6594502c-3cdc-4972-c60d-cc3096753d96"
      },
      "execution_count": 24,
      "outputs": [
        {
          "output_type": "execute_result",
          "data": {
            "text/plain": [
              "[('7/28/2017', datetime.datetime(2017, 7, 28, 0, 0)),\n",
              " ('7/26/2017', datetime.datetime(2017, 7, 26, 0, 0)),\n",
              " ('7/26/2017', datetime.datetime(2017, 7, 26, 0, 0)),\n",
              " ('7/26/2017', datetime.datetime(2017, 7, 26, 0, 0)),\n",
              " ('7/24/2017', datetime.datetime(2017, 7, 24, 0, 0)),\n",
              " ('7/24/2017', datetime.datetime(2017, 7, 24, 0, 0)),\n",
              " ('7/24/2017', datetime.datetime(2017, 7, 24, 0, 0)),\n",
              " ('7/23/2017', datetime.datetime(2017, 7, 23, 0, 0)),\n",
              " ('7/22/2017', datetime.datetime(2017, 7, 22, 0, 0)),\n",
              " ('7/21/2017', datetime.datetime(2017, 7, 21, 0, 0))]"
            ]
          },
          "metadata": {},
          "execution_count": 24
        }
      ]
    },
    {
      "cell_type": "code",
      "source": [
        "\n",
        "# Display the products with atleast 2 occurance of 'a'\n",
        "sol4=rdd5.map(lambda x: (x[2],x[2].count('a'))).filter(lambda x: x[1]>=2)\n"
      ],
      "metadata": {
        "id": "Hb29J9kSkArD"
      },
      "execution_count": 25,
      "outputs": []
    },
    {
      "cell_type": "code",
      "source": [
        "sol4.take(2)"
      ],
      "metadata": {
        "colab": {
          "base_uri": "https://localhost:8080/"
        },
        "id": "O2djDnZhrbPM",
        "outputId": "706a07eb-dc2b-4b7f-898e-04a9c44c5ea7"
      },
      "execution_count": 26,
      "outputs": [
        {
          "output_type": "execute_result",
          "data": {
            "text/plain": [
              "[('Personal Care', 2), ('Personal Care', 2)]"
            ]
          },
          "metadata": {},
          "execution_count": 26
        }
      ]
    },
    {
      "cell_type": "code",
      "source": [
        "# Display the country in each region with highest units sold\n",
        "sol5=rdd5.map(lambda x: (x[0],x[1],int(x[8]))).groupBy(lambda x:(x[0],x[1])).mapValues(lambda x:max(x))"
      ],
      "metadata": {
        "id": "Q3Pjmc8IrdqI"
      },
      "execution_count": 27,
      "outputs": []
    },
    {
      "cell_type": "code",
      "source": [
        "sol5.take(2)"
      ],
      "metadata": {
        "colab": {
          "base_uri": "https://localhost:8080/"
        },
        "id": "4NPMVlBgs5zC",
        "outputId": "9bfa3486-561c-4a11-ea19-992604504788"
      },
      "execution_count": 28,
      "outputs": [
        {
          "output_type": "execute_result",
          "data": {
            "text/plain": [
              "[(('Central America and the Caribbean', 'Panama'),\n",
              "  ('Central America and the Caribbean', 'Panama', 9976)),\n",
              " (('Europe', 'Czech Republic'), ('Europe', 'Czech Republic', 9759))]"
            ]
          },
          "metadata": {},
          "execution_count": 28
        }
      ]
    },
    {
      "cell_type": "code",
      "source": [
        "sol5a=sol5.map(lambda x: x[1])"
      ],
      "metadata": {
        "id": "bmccmd-Ts7zH"
      },
      "execution_count": 31,
      "outputs": []
    },
    {
      "cell_type": "code",
      "source": [
        "sol5a.take(2)"
      ],
      "metadata": {
        "colab": {
          "base_uri": "https://localhost:8080/"
        },
        "id": "qLVSgwMMwKWp",
        "outputId": "7501333a-b675-461e-ac5d-629d20887b73"
      },
      "execution_count": 32,
      "outputs": [
        {
          "output_type": "execute_result",
          "data": {
            "text/plain": [
              "[('Central America and the Caribbean', 'Panama', 9976),\n",
              " ('Europe', 'Czech Republic', 9759)]"
            ]
          },
          "metadata": {},
          "execution_count": 32
        }
      ]
    },
    {
      "cell_type": "code",
      "source": [
        "# Display the unit price and unit cost of each item in ascending order\n",
        "sol6=rdd5.map(lambda x: (x[2],float(x[9]),float(x[10]))).sortBy(lambda x:x[0],ascending=True).distinct()"
      ],
      "metadata": {
        "id": "1wtxps6RwQhq"
      },
      "execution_count": 50,
      "outputs": []
    },
    {
      "cell_type": "code",
      "source": [
        "sol6.take(2)"
      ],
      "metadata": {
        "colab": {
          "base_uri": "https://localhost:8080/"
        },
        "id": "vJHDB8i08bnF",
        "outputId": "abbe0d79-2560-4066-a8cf-5183adb5c7b8"
      },
      "execution_count": 51,
      "outputs": [
        {
          "output_type": "execute_result",
          "data": {
            "text/plain": [
              "[('Beverages', 47.45, 31.79), ('Fruits', 9.33, 6.92)]"
            ]
          },
          "metadata": {},
          "execution_count": 51
        }
      ]
    },
    {
      "cell_type": "code",
      "source": [
        "# Display the number of Sales Yearwise\n",
        "sol7=rdd5.map(lambda x: ((x[5][-4:]),int(x[8]))).groupByKey().mapValues(lambda x: sum(x))"
      ],
      "metadata": {
        "id": "278QmECm8dMj"
      },
      "execution_count": 65,
      "outputs": []
    },
    {
      "cell_type": "code",
      "source": [
        "sol7.take(2)"
      ],
      "metadata": {
        "colab": {
          "base_uri": "https://localhost:8080/"
        },
        "id": "8smw9oDU_LiK",
        "outputId": "75c2a181-465c-41d1-de87-412d3e0d75c2"
      },
      "execution_count": 66,
      "outputs": [
        {
          "output_type": "execute_result",
          "data": {
            "text/plain": [
              "[('2013', 3358584), ('2010', 3130137)]"
            ]
          },
          "metadata": {},
          "execution_count": 66
        }
      ]
    },
    {
      "cell_type": "code",
      "source": [
        "# Dispay number of orders for each item\n",
        "sol8=rdd5.map(lambda x: (x[2],1)).groupByKey().mapValues(lambda x:sum(x))"
      ],
      "metadata": {
        "id": "v9_RosDe_NN1"
      },
      "execution_count": 69,
      "outputs": []
    },
    {
      "cell_type": "code",
      "source": [
        "sol8.take(2)"
      ],
      "metadata": {
        "colab": {
          "base_uri": "https://localhost:8080/"
        },
        "id": "JY0JrlKEBTGD",
        "outputId": "b16e0f35-fd7d-4f57-a2a7-c0c9067a24d8"
      },
      "execution_count": 70,
      "outputs": [
        {
          "output_type": "execute_result",
          "data": {
            "text/plain": [
              "[('Baby Food', 445), ('Snacks', 398)]"
            ]
          },
          "metadata": {},
          "execution_count": 70
        }
      ]
    },
    {
      "cell_type": "code",
      "source": [
        "# Display the country with highest sale\n",
        "sol9=rdd5.map(lambda x:(x[1],int(x[8]))).groupByKey().mapValues(lambda x:sum(x)).max()"
      ],
      "metadata": {
        "id": "CfajJF62BUya"
      },
      "execution_count": 82,
      "outputs": []
    },
    {
      "cell_type": "code",
      "source": [
        "sol9"
      ],
      "metadata": {
        "colab": {
          "base_uri": "https://localhost:8080/"
        },
        "id": "1BgDxfVGCL-2",
        "outputId": "70707e16-5818-4ae4-d91a-4dd0cffcb7d9"
      },
      "execution_count": 84,
      "outputs": [
        {
          "output_type": "execute_result",
          "data": {
            "text/plain": [
              "('Zimbabwe', 93906)"
            ]
          },
          "metadata": {},
          "execution_count": 84
        }
      ]
    },
    {
      "cell_type": "code",
      "source": [
        "sol8.save"
      ],
      "metadata": {
        "id": "Nro79VZLCOKF"
      },
      "execution_count": null,
      "outputs": []
    }
  ]
}